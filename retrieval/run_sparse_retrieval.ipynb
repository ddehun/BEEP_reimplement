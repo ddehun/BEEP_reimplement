{
 "cells": [
  {
   "cell_type": "markdown",
   "metadata": {},
   "source": [
    "# 1. Paths"
   ]
  },
  {
   "cell_type": "markdown",
   "metadata": {},
   "source": [
    "# 2. Mention extraction\n",
    "- for Sparse retrieval\n",
    "\n",
    "```\n",
    "python text_tagger.py \n",
    "  --data <RAW_TEXT_CSV> \n",
    "  --model_name_or_path emilyalsentzer/Bio_Discharge_Summary_BERT\n",
    "  --out_dir <PATH_TO_OUTPUT_DIR>\n",
    "  --checkpoint <PATH_TO_TRAINED_MODEL>\n",
    "  --task i2b2\n",
    "```"
   ]
  },
  {
   "cell_type": "code",
   "execution_count": null,
   "metadata": {},
   "outputs": [],
   "source": []
  },
  {
   "cell_type": "markdown",
   "metadata": {},
   "source": [
    "# 3. Mention filtering & Linking\n",
    "- Jupyter run"
   ]
  },
  {
   "cell_type": "markdown",
   "metadata": {},
   "source": []
  },
  {
   "cell_type": "markdown",
   "metadata": {},
   "source": [
    "# 4. Sparse Retrieval"
   ]
  },
  {
   "cell_type": "markdown",
   "metadata": {},
   "source": []
  }
 ],
 "metadata": {
  "kernelspec": {
   "display_name": "Python 3.8.10",
   "language": "python",
   "name": "python3"
  },
  "language_info": {
   "name": "python",
   "version": "3.8.10"
  },
  "orig_nbformat": 4,
  "vscode": {
   "interpreter": {
    "hash": "62c21d65d3754ae0eaee53db1afaf74da83f43d9ef2dbebca0c77a5c70a626f5"
   }
  }
 },
 "nbformat": 4,
 "nbformat_minor": 2
}
