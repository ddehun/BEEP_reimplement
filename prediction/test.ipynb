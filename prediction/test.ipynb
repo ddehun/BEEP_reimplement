{
 "cells": [
  {
   "cell_type": "code",
   "execution_count": 1,
   "metadata": {},
   "outputs": [],
   "source": [
    "import numpy as np\n",
    "import torch"
   ]
  },
  {
   "cell_type": "code",
   "execution_count": null,
   "metadata": {},
   "outputs": [],
   "source": []
  },
  {
   "cell_type": "code",
   "execution_count": 24,
   "metadata": {},
   "outputs": [],
   "source": [
    "logit_list = [torch.tensor([[1.1,2],[2,3],[4,2]]).numpy(),torch.tensor([[1.1,2],[2,3],[4,2]]).numpy(),torch.tensor([[1.1,2],[2,3],[4,2]]).numpy()]\n",
    "labels = [np.array([0,1,1]),np.array([0,1,1]),np.array([1,0,1])]\n",
    "logit_list = np.concatenate(logit_list,0).tolist()\n",
    "labels = np.concatenate(labels).tolist()\n",
    "pred_list = np.argmax(logit_list,1).tolist()\n",
    "assert len(labels) == len(pred_list)\n",
    "from sklearn.metrics import f1_score, accuracy_score\n",
    "accuracy = accuracy_score(pred_list,labels)\n",
    "macro_f1 = f1_score(labels,pred_list,average='macro')\n",
    "micro_f1 = f1_score(labels,pred_list,average='micro')\n"
   ]
  },
  {
   "cell_type": "code",
   "execution_count": 27,
   "metadata": {},
   "outputs": [
    {
     "data": {
      "text/plain": [
       "numpy.float64"
      ]
     },
     "execution_count": 27,
     "metadata": {},
     "output_type": "execute_result"
    }
   ],
   "source": [
    "type(macro_f1)"
   ]
  },
  {
   "cell_type": "code",
   "execution_count": 15,
   "metadata": {},
   "outputs": [],
   "source": []
  },
  {
   "cell_type": "code",
   "execution_count": 16,
   "metadata": {},
   "outputs": [],
   "source": []
  },
  {
   "cell_type": "code",
   "execution_count": null,
   "metadata": {},
   "outputs": [],
   "source": []
  }
 ],
 "metadata": {
  "kernelspec": {
   "display_name": "Python 3.8.10",
   "language": "python",
   "name": "python3"
  },
  "language_info": {
   "codemirror_mode": {
    "name": "ipython",
    "version": 3
   },
   "file_extension": ".py",
   "mimetype": "text/x-python",
   "name": "python",
   "nbconvert_exporter": "python",
   "pygments_lexer": "ipython3",
   "version": "3.8.10"
  },
  "orig_nbformat": 4,
  "vscode": {
   "interpreter": {
    "hash": "62c21d65d3754ae0eaee53db1afaf74da83f43d9ef2dbebca0c77a5c70a626f5"
   }
  }
 },
 "nbformat": 4,
 "nbformat_minor": 2
}
